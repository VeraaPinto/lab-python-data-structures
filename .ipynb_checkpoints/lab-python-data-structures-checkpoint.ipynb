{
 "cells": [
  {
   "cell_type": "markdown",
   "metadata": {
    "tags": []
   },
   "source": [
    "# Lab | Data Structures "
   ]
  },
  {
   "cell_type": "markdown",
   "metadata": {},
   "source": [
    "## Exercise: Managing Customer Orders\n",
    "\n",
    "\n",
    "As part of a business venture, you are starting an online store that sells various products. To ensure smooth operations, you need to develop a program that manages customer orders and inventory.\n",
    "\n",
    "Follow the steps below to complete the exercise:\n",
    "\n",
    "1. Define a list called `products` that contains the following items: \"t-shirt\", \"mug\", \"hat\", \"book\", \"keychain\".\n",
    "\n",
    "2. Create an empty dictionary called `inventory`.\n",
    "\n",
    "3. Ask the user to input the quantity of each product available in the inventory. Use the product names from the `products` list as keys in the `inventory` dictionary and assign the respective quantities as values.\n",
    "\n",
    "4. Create an empty set called `customer_orders`.\n",
    "\n",
    "5. Ask the user to input the name of three products that a customer wants to order (from those in the products list, meaning three products out of \"t-shirt\", \"mug\", \"hat\", \"book\" or \"keychain\". Add each product name to the `customer_orders` set.\n",
    "\n",
    "6. Print the products in the `customer_orders` set.\n",
    "\n",
    "7. Calculate the following order statistics:\n",
    "   - Total Products Ordered: The total number of products in the `customer_orders` set.\n",
    "   - Percentage of Products Ordered: The percentage of products ordered compared to the total available products.\n",
    "   \n",
    "   Store these statistics in a tuple called `order_status`.\n",
    "\n",
    "8. Print the order statistics using the following format:\n",
    "   ```\n",
    "   Order Statistics:\n",
    "   Total Products Ordered: <total_products_ordered>\n",
    "   Percentage of Products Ordered: <percentage_ordered>% \n",
    "   ```\n",
    "\n",
    "9. Update the inventory by subtracting 1 from the quantity of each product. Modify the `inventory` dictionary accordingly.\n",
    "\n",
    "10. Print the updated inventory, displaying the quantity of each product on separate lines.\n",
    "\n",
    "Solve the exercise by implementing the steps using the Python concepts of lists, dictionaries, sets, and basic input/output operations. \n"
   ]
  },
  {
   "cell_type": "code",
   "execution_count": 36,
   "metadata": {},
   "outputs": [],
   "source": [
    "products = [\"t-shirt\",\"mug\",\"hat\",\"book\", \"keychain\"]"
   ]
  },
  {
   "cell_type": "code",
   "execution_count": 38,
   "metadata": {},
   "outputs": [],
   "source": [
    "inventory = {}"
   ]
  },
  {
   "cell_type": "code",
   "execution_count": 40,
   "metadata": {},
   "outputs": [
    {
     "name": "stdin",
     "output_type": "stream",
     "text": [
      "Enter the quantity for t-shirt:  7\n",
      "Enter the quantity for mug:  3\n",
      "Enter the quantity for hat:  8\n",
      "Enter the quantity for book:  2\n",
      "Enter the quantity for keychain:  10\n"
     ]
    },
    {
     "name": "stdout",
     "output_type": "stream",
     "text": [
      "{'t-shirt': 7, 'mug': 3, 'hat': 8, 'book': 2, 'keychain': 10}\n"
     ]
    }
   ],
   "source": [
    "inventory[\"t-shirt\"] = int(input(\"Enter the quantity for t-shirt: \")) \n",
    "inventory[\"mug\"] = int(input(\"Enter the quantity for mug: \")) \n",
    "inventory[\"hat\"] = int(input(\"Enter the quantity for hat: \")) \n",
    "inventory[\"book\"] = int(input(\"Enter the quantity for book: \")) \n",
    "inventory[\"keychain\"] = int(input(\"Enter the quantity for keychain: \"))\n",
    "print(inventory)"
   ]
  },
  {
   "cell_type": "code",
   "execution_count": 42,
   "metadata": {},
   "outputs": [
    {
     "name": "stdout",
     "output_type": "stream",
     "text": [
      "Available products: ['t-shirt', 'mug', 'hat', 'book', 'keychain']\n"
     ]
    },
    {
     "name": "stdin",
     "output_type": "stream",
     "text": [
      "Enter the name of product you want to order 1:  mug\n"
     ]
    },
    {
     "name": "stdout",
     "output_type": "stream",
     "text": [
      "mug has been added to your order.\n"
     ]
    },
    {
     "name": "stdin",
     "output_type": "stream",
     "text": [
      "Enter the name of product you want to order 2:  t-shirt\n"
     ]
    },
    {
     "name": "stdout",
     "output_type": "stream",
     "text": [
      "t-shirt has been added to your order.\n"
     ]
    },
    {
     "name": "stdin",
     "output_type": "stream",
     "text": [
      "Enter the name of product you want to order 3:  book\n"
     ]
    },
    {
     "name": "stdout",
     "output_type": "stream",
     "text": [
      "book has been added to your order.\n",
      "Your order: {'t-shirt', 'book', 'mug'}\n"
     ]
    }
   ],
   "source": [
    "customer_orders=set()\n",
    "print(\"Available products:\", products)\n",
    "while len(customer_orders) < 3:\n",
    "    product = input(f\"Enter the name of product you want to order {len(customer_orders) + 1}: \")\n",
    "    if product in products:\n",
    "        customer_orders.add(product)\n",
    "        print(f\"{product} has been added to your order.\")\n",
    "    else:\n",
    "        print(\"Invalid product name. Please choose from the available products.\")\n",
    "print(\"Your order:\", customer_orders)"
   ]
  },
  {
   "cell_type": "code",
   "execution_count": 44,
   "metadata": {},
   "outputs": [
    {
     "name": "stdout",
     "output_type": "stream",
     "text": [
      "3\n",
      "10.0\n"
     ]
    }
   ],
   "source": [
    "total_products_ordered = len(customer_orders)\n",
    "print(total_products_ordered)\n",
    "total_inventory = sum(inventory.values())\n",
    "percentage_ordered = total_products_ordered/total_inventory*100\n",
    "print(percentage_ordered)"
   ]
  },
  {
   "cell_type": "code",
   "execution_count": 46,
   "metadata": {},
   "outputs": [
    {
     "data": {
      "text/plain": [
       "tuple"
      ]
     },
     "execution_count": 46,
     "metadata": {},
     "output_type": "execute_result"
    }
   ],
   "source": [
    "order_status = ('total_products_ordered',total_products_ordered,'percentage_ordered',percentage_ordered)\n",
    "type(order_status)"
   ]
  },
  {
   "cell_type": "code",
   "execution_count": 48,
   "metadata": {},
   "outputs": [
    {
     "name": "stdout",
     "output_type": "stream",
     "text": [
      "Order Statistics:\n",
      "Total Products Ordered: 3\n",
      "Percentage of Products Ordered: 10.0%\n"
     ]
    }
   ],
   "source": [
    "print(f\"Order Statistics:\\nTotal Products Ordered: {order_status[1]}\\nPercentage of Products Ordered: {order_status[3]:}%\")"
   ]
  },
  {
   "cell_type": "code",
   "execution_count": 50,
   "metadata": {},
   "outputs": [
    {
     "name": "stdout",
     "output_type": "stream",
     "text": [
      "{'t-shirt': 6, 'mug': 3, 'hat': 8, 'book': 2, 'keychain': 10}\n",
      "{'t-shirt': 6, 'mug': 2, 'hat': 8, 'book': 2, 'keychain': 10}\n",
      "{'t-shirt': 6, 'mug': 2, 'hat': 7, 'book': 2, 'keychain': 10}\n",
      "{'t-shirt': 6, 'mug': 2, 'hat': 7, 'book': 1, 'keychain': 10}\n",
      "{'t-shirt': 6, 'mug': 2, 'hat': 7, 'book': 1, 'keychain': 9}\n"
     ]
    }
   ],
   "source": [
    "for item in inventory: \n",
    "    inventory[item] -= 1\n",
    "    print(inventory)"
   ]
  },
  {
   "cell_type": "code",
   "execution_count": 52,
   "metadata": {},
   "outputs": [
    {
     "name": "stdout",
     "output_type": "stream",
     "text": [
      "Updated Inventory:\n",
      "t-shirt: 6\n",
      "mug: 2\n",
      "hat: 7\n",
      "book: 1\n",
      "keychain: 9\n"
     ]
    }
   ],
   "source": [
    "print(\"Updated Inventory:\") \n",
    "for item, quantity in inventory.items(): \n",
    "    print(f\"{item}: {quantity}\")"
   ]
  },
  {
   "cell_type": "code",
   "execution_count": null,
   "metadata": {},
   "outputs": [],
   "source": []
  }
 ],
 "metadata": {
  "kernelspec": {
   "display_name": "Python [conda env:base] *",
   "language": "python",
   "name": "conda-base-py"
  },
  "language_info": {
   "codemirror_mode": {
    "name": "ipython",
    "version": 3
   },
   "file_extension": ".py",
   "mimetype": "text/x-python",
   "name": "python",
   "nbconvert_exporter": "python",
   "pygments_lexer": "ipython3",
   "version": "3.12.7"
  }
 },
 "nbformat": 4,
 "nbformat_minor": 4
}
